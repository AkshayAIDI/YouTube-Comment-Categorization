{
 "cells": [
  {
   "cell_type": "markdown",
   "metadata": {},
   "source": [
    "# Title: Youtube Comments Categorization\n",
    "\n",
    "### Group Number : 16\n",
    "### Group Member 1 : Ajay Krishna Jagdeesh\n",
    "### Group Member 2 : Akshay Babu\n",
    "\n",
    "###  Emails : 200573233@student.georgianc.on.ca | 200563262@student.georgianc.on.ca | "
   ]
  },
  {
   "cell_type": "markdown",
   "metadata": {},
   "source": [
    "### INTRODUCTION:\n",
    "*********************************************************************************************************************\n",
    "#### AIM : The goal of this research is to create a reliable and accurate system for classifying YouTube video comments. This technology will automatically group user comments into many categories in order to give video producers, viewers, and moderators useful information. By arranging and comprehending the thoughts, intentions, and different types of interactions stated in the comments section, the main objective is to improve the user experience.\n",
    "\n",
    "*********************************************************************************************************************\n",
    "### Github Repo: https://github.com/Rhitabrat/youtube-comments-categorization\n",
    "\n",
    "*********************************************************************************************************************\n",
    "#### DESCRIPTION OF PAPER: \n",
    "\n",
    "* The Study tackles the problem of organizing and getting something useful out of the large number of YouTube comments. \n",
    "\n",
    "* The study intends to assist content writers in deriving valuable insights from user comments by integrating sentiment and sentence type analysis. This method uses a combination of statistical metrics and machine learning models, in contrast to earlier studies that mainly concentrated on sentiment analysis or phrase type classification. \n",
    "\n",
    "* The study shows the efficacy of this approach for appropriately categorizing comments through rigorous examination, including cross-validation and F1 ratings. With the help of this ground-breaking methodology, content producers may increase viewer engagement by better understanding the thoughts and worries of their audience and fostering more informed conversations with them.\n",
    "*********************************************************************************************************************\n",
    "### PROBLEM STATEMENT :\n",
    "\n",
    "* The problem that needs to be solved in this study is how to efficiently classify YouTube comments based on both sentiment and sentence patterns. Although YouTube comments provide vital insights for video producers, it is challenging to glean useful information due to their vast volume, diversity, and linguistic variances. \n",
    "\n",
    "* The goal is to create a classification model that can correctly classify various remark kinds while taking into account feelings (positive, negative), sentence types (interrogative, imperative, etc.), and sentiments (positive, negative). By recognizing pertinent remarks and enhancing the entire viewing experience, the objective is to improve content creators' capacity to interact with their audience. \n",
    "\n",
    "* In order to give video creators information that help them make wise content selections and promote better interactions with their audience, a robust solution that can manage the nuances of YouTube comments, such as mixed sentence patterns and moods, is needed.\n",
    "*********************************************************************************************************************\n",
    "### CONTEXT OF THE PROBLEM:\n",
    "\n",
    "* The objective of the study is to categorize comments based on sentiment and phrase style for the purpose of managing YouTube comment feedback. The tools \"pandas\" for data import, \"re\" for regex-based preprocessing, and \"nltk\" for stopword removal are used with Python and Jupyter Notebooks. \n",
    "\n",
    "* Spelling correction is handled by the \"autocorrect\" library. Training includes 80% comments, 20% testing, and Google Colab projects. Cross-validation scores range from 0.76 to 0.85 and F1 scores range from 0.81 to 0.87 when evaluating the performance of a model. \n",
    "\n",
    "* The Random Forest classifier struggles with mixed sentence kinds and sentiments in comments, which causes classification errors. It performs best with clear categorizations.\n",
    "\n",
    "* High-dimensional data causes the Decision Tree Classifier to function inadequately. Dealing with different comment formats presents difficulties that affect categorization accuracy, particularly when mixed-sentiment and mixed-sentence situations appear on YouTube videos.\n",
    "\n",
    "\n",
    "*********************************************************************************************************************\n",
    "#### SOLUTION:\n",
    "\n",
    "* Data Collection and Preparation\n",
    "* Feature Extraction and Model Development\n",
    "* Handling Imbalanced Data\n",
    "* Multi-Class Classification & Model Evaluation and Refinement.\n",
    "* Visualization and Reporting."
   ]
  },
  {
   "cell_type": "markdown",
   "metadata": {},
   "source": [
    "*********************************************************************************************************************\n",
    "\n",
    "# Background\n",
    "\n",
    "| **Reference** | **Explanation** | **Dataset/Input** | **Weakness** |\n",
    "|---------------|-----------------|-------------------|--------------|\n",
    "| [1] Agarwal et al. 2011 | Sentiment analysis of Twitter data using lexicon-based approach. | Twitter data for sentiment analysis. | Lexicon-based approaches might not capture context nuances. |\n",
    "| [2] Ahuja et al. 2019 | Movie recommender system using K-Means clustering and K-Nearest Neighbor. | Movie ratings and features data. | Limited explanation on how the chosen algorithms improve recommendations. |\n",
    "| [3] Aung and Myo 2017 | Sentiment analysis of students' comments using lexicon-based approach. | Student comments for sentiment analysis. | Relies on predefined lexicons that might not cover all terms. |\n",
    "| [4] Bhuiyan et al. 2017 | Retrieving YouTube videos based on sentiment analysis of user comments. | YouTube user comments for sentiment analysis. | Ignores other video attributes that might affect retrieval. |\n",
    "| [5] Cheung et al. 2005 | Feature extraction for learning to classify questions. | Question classification features. | Limited information on the type of questions or context. |\n",
    "| [6] Collobert et al. 2011 | Natural language processing with focus on deep learning. | General concepts in deep learning for NLP. | No specific dataset/input mentioned; not a study with empirical results. |\n",
    "| [7] Hassan and Mahmood 2017 | Deep learning for sentence classification. | Sentence classification data. | Specifics on the dataset and task not provided. |\n",
    "| [8] Iyyer et al. 2014 | Political ideology detection using recursive neural networks. | Text data for political ideology detection. | Focuses on political ideology, might not generalize well to other domains. |\n",
    "| [9] Kadhim 2019 | Survey on supervised machine learning techniques for text classification. | Various text classification datasets and techniques. | General overview, lacks detailed insights for specific datasets. |\n",
    "| [10] Khoo et al. 2006 | Experiments with sentence classification. | Sentence classification data. | Limited explanation of the methods used. |\n",
    "| [11] Kim 2014 | Convolutional neural networks for sentence classification. | Text data for sentence classification. | Might not provide interpretable features for text classification. |\n",
    "| [12] Krishna et al. 2013 | Polarity trend analysis of public sentiment on YouTube videos. | YouTube user comments for sentiment analysis. | Focuses on polarity trend rather than detailed analysis. |\n",
    "| [13] Maas et al. 2011 | Learning word vectors for sentiment analysis. | Sentiment analysis with word vectors. | Limited discussion on the choice of sentiment analysis methods. |\n",
    "| [14] Madden et al. 2013 | Classification scheme for content analysis of YouTube video comments. | YouTube video comments for content analysis. | Focused on creating a classification scheme, not on predictive models. |\n",
    "| [15] Poche 2017 | Analyzing user comments on YouTube coding tutorial videos. | User comments on coding tutorial videos. | Limited explanation on the nature of the analysis. |\n",
    "| [16] Siersdorfer et al. 2010 | Analyzing and predicting YouTube comments and ratings. | YouTube comments and ratings data. | Focuses on prediction without detailed explanation of features used. |\n",
    "| [17] Socher et al. 2011 | Semi-supervised recursive autoencoders for sentiment prediction. | Sentiment prediction using autoencoders. | Might not be as effective on smaller datasets without sufficient unlabeled data. |\n",
    "| [18] Taboada et al. 2011 | Lexicon-based methods for sentiment analysis. | Sentiment analysis using lexicons. | Lexicon-based approaches might struggle with nuanced sentiments. |\n",
    "| [19] Yang and Pedersen 1997 | Comparative study on feature selection in text categorization. | Various text categorization datasets and feature selection methods. | Focuses on feature selection, not sentiment analysis. |\n",
    "| [20] Yasmina et al. 2016 | Using YouTube comments for text-based emotion recognition. | YouTube comments for emotion recognition. | Might not consider contextual emotions accurately. |\n",
    "| [21] Zhou et al. 2015 | C-LSTM neural network for text classification. | Text classification using C-LSTM neural network. | Limited discussion on how this approach compares to others. |\n",
    "\n",
    "\n",
    "*********************************************************************************************************************\n",
    "\n",
    "\n",
    "\n",
    "\n"
   ]
  },
  {
   "cell_type": "markdown",
   "metadata": {},
   "source": [
    "*********************************************************************************************************************\n",
    "# Contribution  Code :\n",
    "\n",
    "#### MLP Classifier\n",
    "\n",
    "from sklearn.neural_network import MLPClassifier\n",
    "\n",
    "mlp_classifier = MLPClassifier(hidden_layer_sizes=(100,), max_iter=1000, random_state=0)\n",
    "\n",
    "mlp_classifier.fit(X_train, y_train)\n",
    "\n",
    "#### Predicting the Test set results\n",
    "y_pred_mlp = mlp_classifier.predict(X_test)\n",
    "\n",
    "#### Making the Confusion Matrix\n",
    "from sklearn.metrics import confusion_matrix\n",
    "\n",
    "cm_mlp = confusion_matrix(y_test, y_pred_mlp)\n",
    "\n",
    "print(\"MLP accuracy score:\", mlp_classifier.score(X_test, y_test))\n",
    "\n",
    "#### Plotting Accuracy vs Data Size - MLP Classifier \n",
    "mlp_classifier = MLPClassifier(hidden_layer_sizes=(100,), max_iter=1000, random_state=0)\n",
    "\n",
    "plot_acc_curve(mlp_classifier, linestyle = 'd-', label=\"MLP Classifier\")"
   ]
  },
  {
   "cell_type": "markdown",
   "metadata": {},
   "source": [
    "# Parameters to perform the Classification:\n",
    "\n",
    "1. **Packages Installation:**\n",
    "   - `!pip install autocorrect`: Installs the \"autocorrect\" package for text correction.\n",
    "   - `!pip install nltk`: Installs the Natural Language Toolkit (NLTK) package for natural language processing.\n",
    "\n",
    "2. **Importing Libraries:**\n",
    "   - Several libraries are imported to assist with data manipulation, analysis, preprocessing, and machine learning.\n",
    "\n",
    "3. **Importing Data:**\n",
    "   - The code reads a CSV file named \"final_data.csv\" using pandas and stores it in a DataFrame called `df`.\n",
    "\n",
    "4. **Data Exploration:**\n",
    "   - The unique categories in the second column (index 1) of the DataFrame are printed.\n",
    "   - Duplicate rows are checked and removed from the DataFrame.\n",
    "\n",
    "5. **Data Preprocessing:**\n",
    "   - Text data in the first column (index 0) of the DataFrame undergoes various preprocessing steps:\n",
    "     - Lowercasing all text.\n",
    "     - Removing URLs using regular expressions.\n",
    "     - Removing new lines.\n",
    "     - Removing punctuations using regular expressions.\n",
    "     - Removing integers using regular expressions.\n",
    "     - Removing emojis using regular expressions.\n",
    "     - Correcting typos using the `autocorrect` package.\n",
    "     - Lemmatizing text using the WordNet lemmatizer from NLTK.\n",
    "     - Removing stopwords (common words that usually don't carry much meaning).\n",
    "\n",
    "6. **Feature Extraction:**\n",
    "   - A bag-of-words representation is created for the preprocessed text data.\n",
    "   - Words that occur more than a certain threshold (`N_occurance`) are considered as features.\n",
    "   - The occurrence of each feature in each document is recorded in a matrix named `evaluation`.\n",
    "\n",
    "7. **Feature Scaling:**\n",
    "   - The `evaluation` matrix is normalized using Min-Max scaling.\n",
    "\n",
    "8. **Model Selection and Cross-Validation:**\n",
    "   - Several machine learning models (Random Forest, Linear Support Vector Classifier, Multinomial Naive Bayes, Logistic Regression, Decision Tree) are applied.\n",
    "   - Cross-validation is performed (5-fold) to evaluate model performance using the accuracy metric.\n",
    "   - The results are stored in a DataFrame named `cv_df`.\n",
    "\n",
    "9. **Model Performance Visualization:**\n",
    "   - Box plots and strip plots are created to visualize the distribution of accuracy scores across different models.\n",
    "\n",
    "10. **Further Model Testing:**\n",
    "   - Additional models (Multinomial Naive Bayes, Linear SVC, Logistic Regression, Random Forest, Decision Tree) are trained, tested, and their confusion matrices and accuracy scores are printed.\n",
    "\n",
    "11. **Histogram Visualization:**\n",
    "   - A histogram is created to show the number of comments in each category, along with how many were correctly classified by each model.\n",
    "\n",
    "12. **Accuracy vs Data Size Curve:**\n",
    "   - For each model (Multinomial Naive Bayes, Linear SVC, Logistic Regression, Random Forest, Decision Tree), an accuracy vs data size curve is plotted by incrementally increasing the training data size and evaluating performance on the test set."
   ]
  },
  {
   "cell_type": "markdown",
   "metadata": {},
   "source": [
    "# Implement paper code :\n",
    "\n",
    "\n",
    "\n"
   ]
  },
  {
   "cell_type": "code",
   "execution_count": 1,
   "metadata": {},
   "outputs": [
    {
     "name": "stdout",
     "output_type": "stream",
     "text": [
      "Requirement already satisfied: autocorrect in c:\\users\\user\\anaconda3\\lib\\site-packages (2.6.1)\n",
      "Requirement already satisfied: nltk in c:\\users\\user\\anaconda3\\lib\\site-packages (3.7)\n",
      "Requirement already satisfied: tqdm in c:\\users\\user\\anaconda3\\lib\\site-packages (from nltk) (4.64.1)\n",
      "Requirement already satisfied: click in c:\\users\\user\\anaconda3\\lib\\site-packages (from nltk) (8.0.4)\n",
      "Requirement already satisfied: regex>=2021.8.3 in c:\\users\\user\\anaconda3\\lib\\site-packages (from nltk) (2022.7.9)\n",
      "Requirement already satisfied: joblib in c:\\users\\user\\anaconda3\\lib\\site-packages (from nltk) (1.1.1)\n",
      "Requirement already satisfied: colorama in c:\\users\\user\\anaconda3\\lib\\site-packages (from click->nltk) (0.4.6)\n"
     ]
    },
    {
     "name": "stderr",
     "output_type": "stream",
     "text": [
      "[nltk_data] Downloading package wordnet to\n",
      "[nltk_data]     C:\\Users\\user\\AppData\\Roaming\\nltk_data...\n",
      "[nltk_data]   Package wordnet is already up-to-date!\n"
     ]
    }
   ],
   "source": [
    "!pip install autocorrect\n",
    "!pip install nltk\n",
    "\n",
    "import pandas as pd\n",
    "import numpy as np\n",
    "from collections import Counter\n",
    "import matplotlib.pyplot as plt\n",
    "import re\n",
    "import nltk\n",
    "from autocorrect import Speller\n",
    "from nltk.corpus import stopwords\n",
    "nltk.download('wordnet')\n",
    "\n",
    "\n",
    "from sklearn.linear_model import LogisticRegression\n",
    "from sklearn.ensemble import RandomForestClassifier\n",
    "from sklearn.naive_bayes import MultinomialNB\n",
    "from sklearn.svm import LinearSVC\n",
    "from sklearn.model_selection import cross_val_score\n",
    "from sklearn.tree import DecisionTreeClassifier"
   ]
  },
  {
   "cell_type": "code",
   "execution_count": 2,
   "metadata": {},
   "outputs": [],
   "source": [
    "df = pd.read_csv('Data/final_data.csv', header=None)"
   ]
  },
  {
   "cell_type": "markdown",
   "metadata": {},
   "source": [
    "## Exploring the Data"
   ]
  },
  {
   "cell_type": "code",
   "execution_count": 3,
   "metadata": {},
   "outputs": [
    {
     "data": {
      "text/plain": [
       "array(['positive', 'imperative', 'interrogative', 'miscellaneous',\n",
       "       'corrective', 'negative'], dtype=object)"
      ]
     },
     "execution_count": 3,
     "metadata": {},
     "output_type": "execute_result"
    }
   ],
   "source": [
    "# Printing unique category\n",
    "df[1].unique()"
   ]
  },
  {
   "cell_type": "code",
   "execution_count": 4,
   "metadata": {},
   "outputs": [
    {
     "data": {
      "text/plain": [
       "True"
      ]
     },
     "execution_count": 4,
     "metadata": {},
     "output_type": "execute_result"
    }
   ],
   "source": [
    "# removing duplicate rows\n",
    "df.duplicated().any()"
   ]
  },
  {
   "cell_type": "code",
   "execution_count": 5,
   "metadata": {},
   "outputs": [
    {
     "data": {
      "text/plain": [
       "0    0\n",
       "1    0\n",
       "dtype: int64"
      ]
     },
     "execution_count": 5,
     "metadata": {},
     "output_type": "execute_result"
    }
   ],
   "source": [
    "# Checking null values\n",
    "df.isnull().sum()"
   ]
  },
  {
   "cell_type": "code",
   "execution_count": 6,
   "metadata": {},
   "outputs": [
    {
     "data": {
      "text/plain": [
       "(10000, 2)"
      ]
     },
     "execution_count": 6,
     "metadata": {},
     "output_type": "execute_result"
    }
   ],
   "source": [
    "# Checking the shape of the data\n",
    "df.shape"
   ]
  },
  {
   "cell_type": "code",
   "execution_count": 7,
   "metadata": {},
   "outputs": [
    {
     "name": "stderr",
     "output_type": "stream",
     "text": [
      "C:\\Users\\user\\AppData\\Local\\Temp\\ipykernel_8572\\238825019.py:7: FutureWarning: The default value of regex will change from True to False in a future version.\n",
      "  df[0] = df[0].str.replace('http\\S+|www.\\S+', '', case=False)\n",
      "C:\\Users\\user\\AppData\\Local\\Temp\\ipykernel_8572\\238825019.py:13: FutureWarning: The default value of regex will change from True to False in a future version.\n",
      "  df[0] = df[0].str.replace('[^\\w\\s]',' ')\n",
      "C:\\Users\\user\\AppData\\Local\\Temp\\ipykernel_8572\\238825019.py:19: FutureWarning: The default value of regex will change from True to False in a future version.\n",
      "  df[0] = df[0].str.replace('[^\\w\\s#@/:%.,_-]', ' ', flags=re.UNICODE)\n"
     ]
    },
    {
     "data": {
      "text/html": [
       "<div>\n",
       "<style scoped>\n",
       "    .dataframe tbody tr th:only-of-type {\n",
       "        vertical-align: middle;\n",
       "    }\n",
       "\n",
       "    .dataframe tbody tr th {\n",
       "        vertical-align: top;\n",
       "    }\n",
       "\n",
       "    .dataframe thead th {\n",
       "        text-align: right;\n",
       "    }\n",
       "</style>\n",
       "<table border=\"1\" class=\"dataframe\">\n",
       "  <thead>\n",
       "    <tr style=\"text-align: right;\">\n",
       "      <th></th>\n",
       "      <th>0</th>\n",
       "      <th>1</th>\n",
       "    </tr>\n",
       "  </thead>\n",
       "  <tbody>\n",
       "    <tr>\n",
       "      <th>0</th>\n",
       "      <td>love you sir</td>\n",
       "      <td>positive</td>\n",
       "    </tr>\n",
       "    <tr>\n",
       "      <th>1</th>\n",
       "      <td>please make videos on  midpoint circle drawing...</td>\n",
       "      <td>imperative</td>\n",
       "    </tr>\n",
       "    <tr>\n",
       "      <th>2</th>\n",
       "      <td>i bought both of your courses on udemy  you ar...</td>\n",
       "      <td>interrogative</td>\n",
       "    </tr>\n",
       "    <tr>\n",
       "      <th>3</th>\n",
       "      <td>thank you very much  u really got me in the fi...</td>\n",
       "      <td>positive</td>\n",
       "    </tr>\n",
       "    <tr>\n",
       "      <th>4</th>\n",
       "      <td>i hope u are ok with everything going on again...</td>\n",
       "      <td>miscellaneous</td>\n",
       "    </tr>\n",
       "    <tr>\n",
       "      <th>...</th>\n",
       "      <td>...</td>\n",
       "      <td>...</td>\n",
       "    </tr>\n",
       "    <tr>\n",
       "      <th>9995</th>\n",
       "      <td>this is gold  absolute peach of a video  but i...</td>\n",
       "      <td>positive</td>\n",
       "    </tr>\n",
       "    <tr>\n",
       "      <th>9996</th>\n",
       "      <td>this is helpful  how to decode a logical conte...</td>\n",
       "      <td>interrogative</td>\n",
       "    </tr>\n",
       "    <tr>\n",
       "      <th>9997</th>\n",
       "      <td>wow  reading this slowly actually helped me se...</td>\n",
       "      <td>positive</td>\n",
       "    </tr>\n",
       "    <tr>\n",
       "      <th>9998</th>\n",
       "      <td>great video sir  really helped a lot keep goin...</td>\n",
       "      <td>positive</td>\n",
       "    </tr>\n",
       "    <tr>\n",
       "      <th>9999</th>\n",
       "      <td>oh damn  u deserve a lot many subscribers than...</td>\n",
       "      <td>interrogative</td>\n",
       "    </tr>\n",
       "  </tbody>\n",
       "</table>\n",
       "<p>10000 rows × 2 columns</p>\n",
       "</div>"
      ],
      "text/plain": [
       "                                                      0              1\n",
       "0                                        love you sir         positive\n",
       "1     please make videos on  midpoint circle drawing...     imperative\n",
       "2     i bought both of your courses on udemy  you ar...  interrogative\n",
       "3     thank you very much  u really got me in the fi...       positive\n",
       "4     i hope u are ok with everything going on again...  miscellaneous\n",
       "...                                                 ...            ...\n",
       "9995  this is gold  absolute peach of a video  but i...       positive\n",
       "9996  this is helpful  how to decode a logical conte...  interrogative\n",
       "9997  wow  reading this slowly actually helped me se...       positive\n",
       "9998  great video sir  really helped a lot keep goin...       positive\n",
       "9999  oh damn  u deserve a lot many subscribers than...  interrogative\n",
       "\n",
       "[10000 rows x 2 columns]"
      ]
     },
     "execution_count": 7,
     "metadata": {},
     "output_type": "execute_result"
    }
   ],
   "source": [
    "# Preprocessing\n",
    "\n",
    "# lowercasing\n",
    "df[0] = df[0].str.lower()\n",
    "\n",
    "# removing urls\n",
    "df[0] = df[0].str.replace('http\\S+|www.\\S+', '', case=False)\n",
    "\n",
    "# removing new lines \"\\n\"\n",
    "df[0] = df[0].str.replace('\\n',' ', regex=True)\n",
    "\n",
    "# removing all the punctuations\n",
    "df[0] = df[0].str.replace('[^\\w\\s]',' ')\n",
    "\n",
    "# removing integers\n",
    "df[0] = df[0].str.replace('\\d','', regex=True)\n",
    "\n",
    "# removing emojis\n",
    "df[0] = df[0].str.replace('[^\\w\\s#@/:%.,_-]', ' ', flags=re.UNICODE)\n",
    "df"
   ]
  },
  {
   "cell_type": "code",
   "execution_count": 8,
   "metadata": {},
   "outputs": [
    {
     "data": {
      "text/plain": [
       "0                                          love you sir  \n",
       "1       please make videos on  midpoint circle drawing...\n",
       "2       i bought both of your courses on dmy  you are ...\n",
       "3       thank you very much  u really got me in the fi...\n",
       "4       i hope u are ok with everything going on again...\n",
       "                              ...                        \n",
       "9995    this is gold  absolute peach of a video  but i...\n",
       "9996    this is helpful  how to decode a logical conte...\n",
       "9997    wow  reading this slowly actually helped me se...\n",
       "9998    great video sir  really helped a lot keep goin...\n",
       "9999    oh damn  u deserve a lot many subscribers than...\n",
       "Name: 0, Length: 10000, dtype: object"
      ]
     },
     "execution_count": 8,
     "metadata": {},
     "output_type": "execute_result"
    }
   ],
   "source": [
    "# correcting the typos\n",
    "\n",
    "spell = Speller(lang='en')\n",
    "\n",
    "def typo_corrector(text):\n",
    "    return spell(text)\n",
    "\n",
    "df[0] = df[0].apply(typo_corrector)\n",
    "df[0]"
   ]
  },
  {
   "cell_type": "code",
   "execution_count": 9,
   "metadata": {},
   "outputs": [
    {
     "name": "stderr",
     "output_type": "stream",
     "text": [
      "[nltk_data] Downloading package omw-1.4 to\n",
      "[nltk_data]     C:\\Users\\user\\AppData\\Roaming\\nltk_data...\n",
      "[nltk_data]   Package omw-1.4 is already up-to-date!\n",
      "[nltk_data] Downloading package wordnet to /path/to/nltk_data...\n",
      "[nltk_data]   Package wordnet is already up-to-date!\n"
     ]
    },
    {
     "data": {
      "text/html": [
       "<div>\n",
       "<style scoped>\n",
       "    .dataframe tbody tr th:only-of-type {\n",
       "        vertical-align: middle;\n",
       "    }\n",
       "\n",
       "    .dataframe tbody tr th {\n",
       "        vertical-align: top;\n",
       "    }\n",
       "\n",
       "    .dataframe thead th {\n",
       "        text-align: right;\n",
       "    }\n",
       "</style>\n",
       "<table border=\"1\" class=\"dataframe\">\n",
       "  <thead>\n",
       "    <tr style=\"text-align: right;\">\n",
       "      <th></th>\n",
       "      <th>0</th>\n",
       "      <th>1</th>\n",
       "    </tr>\n",
       "  </thead>\n",
       "  <tbody>\n",
       "    <tr>\n",
       "      <th>0</th>\n",
       "      <td>love you sir</td>\n",
       "      <td>positive</td>\n",
       "    </tr>\n",
       "    <tr>\n",
       "      <th>1</th>\n",
       "      <td>please make videos on  midpoint circle drawing...</td>\n",
       "      <td>imperative</td>\n",
       "    </tr>\n",
       "    <tr>\n",
       "      <th>2</th>\n",
       "      <td>i bought both of your courses on dmy  you are ...</td>\n",
       "      <td>interrogative</td>\n",
       "    </tr>\n",
       "    <tr>\n",
       "      <th>3</th>\n",
       "      <td>thank you very much  u really got me in the fi...</td>\n",
       "      <td>positive</td>\n",
       "    </tr>\n",
       "    <tr>\n",
       "      <th>4</th>\n",
       "      <td>i hope u are ok with everything going on again...</td>\n",
       "      <td>miscellaneous</td>\n",
       "    </tr>\n",
       "    <tr>\n",
       "      <th>...</th>\n",
       "      <td>...</td>\n",
       "      <td>...</td>\n",
       "    </tr>\n",
       "    <tr>\n",
       "      <th>9995</th>\n",
       "      <td>this is gold  absolute peach of a video  but i...</td>\n",
       "      <td>positive</td>\n",
       "    </tr>\n",
       "    <tr>\n",
       "      <th>9996</th>\n",
       "      <td>this is helpful  how to decode a logical conte...</td>\n",
       "      <td>interrogative</td>\n",
       "    </tr>\n",
       "    <tr>\n",
       "      <th>9997</th>\n",
       "      <td>wow  reading this slowly actually helped me se...</td>\n",
       "      <td>positive</td>\n",
       "    </tr>\n",
       "    <tr>\n",
       "      <th>9998</th>\n",
       "      <td>great video sir  really helped a lot keep goin...</td>\n",
       "      <td>positive</td>\n",
       "    </tr>\n",
       "    <tr>\n",
       "      <th>9999</th>\n",
       "      <td>oh damn  u deserve a lot many subscribers than...</td>\n",
       "      <td>interrogative</td>\n",
       "    </tr>\n",
       "  </tbody>\n",
       "</table>\n",
       "<p>10000 rows × 2 columns</p>\n",
       "</div>"
      ],
      "text/plain": [
       "                                                      0              1\n",
       "0                                        love you sir         positive\n",
       "1     please make videos on  midpoint circle drawing...     imperative\n",
       "2     i bought both of your courses on dmy  you are ...  interrogative\n",
       "3     thank you very much  u really got me in the fi...       positive\n",
       "4     i hope u are ok with everything going on again...  miscellaneous\n",
       "...                                                 ...            ...\n",
       "9995  this is gold  absolute peach of a video  but i...       positive\n",
       "9996  this is helpful  how to decode a logical conte...  interrogative\n",
       "9997  wow  reading this slowly actually helped me se...       positive\n",
       "9998  great video sir  really helped a lot keep goin...       positive\n",
       "9999  oh damn  u deserve a lot many subscribers than...  interrogative\n",
       "\n",
       "[10000 rows x 2 columns]"
      ]
     },
     "execution_count": 9,
     "metadata": {},
     "output_type": "execute_result"
    }
   ],
   "source": [
    "import nltk\n",
    "nltk.download('omw-1.4')\n",
    "import nltk\n",
    "nltk.data.path.append(\"/path/to/nltk_data\")\n",
    "nltk.download('wordnet', download_dir=\"/path/to/nltk_data\")\n",
    "\n",
    "lemmatizer = nltk.stem.WordNetLemmatizer()\n",
    "def lemmatize_text(text):\n",
    "    return lemmatizer.lemmatize(text)\n",
    "df[0] = df[0].apply(lemmatize_text)\n",
    "\n",
    "df"
   ]
  },
  {
   "cell_type": "code",
   "execution_count": 10,
   "metadata": {},
   "outputs": [],
   "source": [
    "# Removing stopwords\n",
    "# nltk.download('stopwords')\n",
    "\n",
    "stop = stopwords.words('english')\n",
    "\n",
    "# These are the words that should not be removed from their category\n",
    "negative_words = ['no','not']\n",
    "interrogative_words = ['how','what','which','who','whom','why','do','does','is','are','was','were','will','am',\n",
    "                      'are','could','would','should','can','did','does','do','had','have']\n",
    "imperative_words = ['could','would','should','can']\n",
    "\n",
    "for_negative_category = stop.copy()\n",
    "for word in negative_words:\n",
    "    if word in for_negative_category:\n",
    "        for_negative_category.remove(word)\n",
    "    \n",
    "for_interrogative_category = stop.copy()\n",
    "for word in interrogative_words:\n",
    "    if word in for_interrogative_category:\n",
    "        for_interrogative_category.remove(word)\n",
    "    \n",
    "for_imperative_category = stop.copy()\n",
    "for word in imperative_words:\n",
    "    if word in for_imperative_category:\n",
    "        for_imperative_category.remove(word)\n",
    "\n",
    "# For negative category\n",
    "for i in range(len(df)):\n",
    "    if df[1][i] == \"negative\":\n",
    "        df[0][i] = ' '.join([word for word in df[0][i].split() if word not in for_negative_category])\n",
    "\n",
    "# For interrogative category\n",
    "for i in range(len(df)):\n",
    "    if df[1][i] == \"interrogative\":\n",
    "        df[0][i] = ' '.join([word for word in df[0][i].split() if word not in for_interrogative_category])\n",
    "        \n",
    "# For interrogative category\n",
    "for i in range(len(df)):\n",
    "    if df[1][i] == \"imperative\":\n",
    "        df[0][i] = ' '.join([word for word in df[0][i].split() if word not in for_imperative_category])\n",
    "        \n",
    "# For all other category\n",
    "for i in range(len(df)):\n",
    "    if df[1][i] == \"positive\" or df[1][i] == \"correction\" or df[1][i] == \"other\":\n",
    "        df[0][i] = ' '.join([word for word in df[0][i].split() if word not in stop])\n",
    "\n",
    "# df[0] = df[0].apply(lambda x: ' '.join([word for word in x.split() if word not in (stop)]))\n",
    "# df"
   ]
  },
  {
   "cell_type": "markdown",
   "metadata": {},
   "source": [
    "## Feature Extaction"
   ]
  },
  {
   "cell_type": "code",
   "execution_count": 11,
   "metadata": {},
   "outputs": [
    {
     "data": {
      "text/plain": [
       "(10000, 2)"
      ]
     },
     "execution_count": 11,
     "metadata": {},
     "output_type": "execute_result"
    }
   ],
   "source": [
    "df.shape"
   ]
  },
  {
   "cell_type": "code",
   "execution_count": 12,
   "metadata": {},
   "outputs": [
    {
     "data": {
      "text/plain": [
       "(10000, 2210)"
      ]
     },
     "execution_count": 12,
     "metadata": {},
     "output_type": "execute_result"
    }
   ],
   "source": [
    "import math \n",
    "\n",
    "N_occurance = 5\n",
    "\n",
    "words = [df[0][i].split() for i in range(len(df))]\n",
    "bag_of_words = sorted(list({word for list_ in words for word in list_}))\n",
    "word_count = {word:0 for word in bag_of_words}\n",
    "for word in bag_of_words:\n",
    "    for list_ in words:\n",
    "        if word in list_:\n",
    "            word_count[word]+=1\n",
    "filtered_words = [k for k,v in word_count.items() if v>N_occurance]\n",
    "evaluation = np.zeros((len(df),len(filtered_words)))\n",
    "for i in range(len(words)):\n",
    "    counter = Counter(words[i])\n",
    "    for k, v in counter.items():\n",
    "        if k not in filtered_words:\n",
    "            continue\n",
    "        count = [1 for list_ in words if k in list_]\n",
    "        evaluation[i][filtered_words.index(k)] = sum(count)/len(words)\n",
    "\n",
    "# print(filtered_words)\n",
    "evaluation.shape"
   ]
  },
  {
   "cell_type": "code",
   "execution_count": 13,
   "metadata": {},
   "outputs": [],
   "source": [
    "from sklearn import preprocessing\n",
    "\n",
    "min_max_scaler = preprocessing.MinMaxScaler()\n",
    "features = min_max_scaler.fit_transform(evaluation)"
   ]
  },
  {
   "cell_type": "code",
   "execution_count": 14,
   "metadata": {},
   "outputs": [
    {
     "data": {
      "text/plain": [
       "numpy.ndarray"
      ]
     },
     "execution_count": 14,
     "metadata": {},
     "output_type": "execute_result"
    }
   ],
   "source": [
    "type(evaluation)"
   ]
  },
  {
   "cell_type": "markdown",
   "metadata": {},
   "source": [
    "## Applying models and calculating the scores"
   ]
  },
  {
   "cell_type": "code",
   "execution_count": 15,
   "metadata": {},
   "outputs": [
    {
     "data": {
      "image/png": "[encoded data removed]",
      "text/plain": [
       "<Figure size 640x480 with 1 Axes>"
      ]
     },
     "metadata": {},
     "output_type": "display_data"
    }
   ],
   "source": [
    "# Applying models\n",
    "\n",
    "labels = df[1]\n",
    "models = [\n",
    "    RandomForestClassifier(max_features='log2', n_estimators=1000, criterion = 'entropy', \n",
    "                           random_state = 0),\n",
    "    LinearSVC(C=1.0, random_state=0),\n",
    "    MultinomialNB(alpha=1, fit_prior=True),\n",
    "    LogisticRegression(C=1.0, penalty='l2', solver='newton-cg', random_state = 0),\n",
    "    DecisionTreeClassifier(criterion='gini', \n",
    "                           max_features=None,min_samples_leaf=1, \n",
    "                           min_samples_split=2, random_state=0),\n",
    "]\n",
    "\n",
    "cv_df = pd.DataFrame()\n",
    "entries = []\n",
    "\n",
    "for model in models:\n",
    "  model_name = model.__class__.__name__\n",
    "  accuracies = cross_val_score(model, features, labels, scoring='accuracy', cv=5)\n",
    "  for fold_idx, accuracy in enumerate(accuracies):\n",
    "    entries.append((model_name, fold_idx, accuracy))\n",
    "\n",
    "cv_df = pd.DataFrame(entries, columns=['model_name', 'fold_idx', 'accuracy'])\n",
    "\n",
    "import seaborn as sns\n",
    "sns.boxplot(x='model_name', y='accuracy', data=cv_df)\n",
    "sns.stripplot(x='model_name', y='accuracy', data=cv_df, size=10, jitter=True, linewidth=1)\n",
    "plt.show()"
   ]
  },
  {
   "cell_type": "code",
   "execution_count": 16,
   "metadata": {},
   "outputs": [
    {
     "data": {
      "text/plain": [
       "model_name\n",
       "DecisionTreeClassifier    0.8074\n",
       "LinearSVC                 0.8292\n",
       "LogisticRegression        0.8404\n",
       "MultinomialNB             0.7932\n",
       "RandomForestClassifier    0.8316\n",
       "Name: accuracy, dtype: float64"
      ]
     },
     "execution_count": 16,
     "metadata": {},
     "output_type": "execute_result"
    }
   ],
   "source": [
    "# Printing the accuracies\n",
    "cv_df.groupby('model_name').accuracy.mean()"
   ]
  },
  {
   "cell_type": "code",
   "execution_count": 17,
   "metadata": {},
   "outputs": [
    {
     "data": {
      "text/plain": [
       "(10000, 2210)"
      ]
     },
     "execution_count": 17,
     "metadata": {},
     "output_type": "execute_result"
    }
   ],
   "source": [
    "features.shape"
   ]
  },
  {
   "cell_type": "markdown",
   "metadata": {},
   "source": [
    "## Appyling other models"
   ]
  },
  {
   "cell_type": "code",
   "execution_count": 18,
   "metadata": {},
   "outputs": [],
   "source": [
    "X = features\n",
    "y = df.iloc[:, 1].values\n",
    "indices = range(len(X))"
   ]
  },
  {
   "cell_type": "code",
   "execution_count": 19,
   "metadata": {},
   "outputs": [],
   "source": [
    "from sklearn.model_selection import train_test_split\n",
    "\n",
    "X_train, X_test, y_train, y_test, indices_train, indices_test = train_test_split(X, y, indices,\n",
    "                                                                                 test_size=0.2, random_state=42)"
   ]
  },
  {
   "cell_type": "code",
   "execution_count": 20,
   "metadata": {},
   "outputs": [],
   "source": [
    "# Function to show original category vs predicted category\n",
    "\n",
    "def show_prediction(y_pred, y_test):\n",
    "\n",
    "    indices_match = y_pred == y_test\n",
    "\n",
    "    df = pd.read_csv('Data/final_data.csv', header=None)\n",
    "\n",
    "    get_comments = []\n",
    "\n",
    "    for i in range(len(indices_test)):\n",
    "        get_comments.append(df[0][indices_test[i]])\n",
    "\n",
    "\n",
    "    data = list(zip(get_comments, y_test, y_pred))\n",
    "    df_result = pd.DataFrame(data, columns=[\"comment\", \"original class\", \"predicted class\"])\n",
    "    return df_result"
   ]
  },
  {
   "cell_type": "code",
   "execution_count": 21,
   "metadata": {},
   "outputs": [
    {
     "name": "stdout",
     "output_type": "stream",
     "text": [
      "accuracy score: 0.8485\n"
     ]
    }
   ],
   "source": [
    "# Multinomial NB\n",
    "from sklearn.naive_bayes import MultinomialNB\n",
    "\n",
    "classifier = MultinomialNB(alpha=1, fit_prior=True)\n",
    "classifier.fit(X_train, y_train)\n",
    "\n",
    "# Predicting the Test set results\n",
    "y_pred = classifier.predict(X_test)\n",
    "\n",
    "# Making the Confusion Matrix\n",
    "from sklearn.metrics import confusion_matrix\n",
    "cm_mnb = confusion_matrix(y_test, y_pred)\n",
    "\n",
    "\n",
    "print(\"accuracy score: \" + str(classifier.score(X_test, y_test)))"
   ]
  },
  {
   "cell_type": "code",
   "execution_count": 22,
   "metadata": {},
   "outputs": [
    {
     "name": "stdout",
     "output_type": "stream",
     "text": [
      "accuracy score: 0.8655\n"
     ]
    }
   ],
   "source": [
    "# Linear SVC\n",
    "from sklearn.svm import SVC\n",
    "\n",
    "classifier = SVC(C=1.0, gamma='scale', kernel='linear', random_state=0)\n",
    "classifier.fit(X_train, y_train)\n",
    "\n",
    "# Predicting the Test set results\n",
    "y_pred = classifier.predict(X_test)\n",
    "\n",
    "# Making the Confusion Matrix\n",
    "from sklearn.metrics import confusion_matrix\n",
    "cm_lsvc = confusion_matrix(y_test, y_pred)\n",
    "\n",
    "print(\"accuracy score: \" + str(classifier.score(X_test, y_test)))"
   ]
  },
  {
   "cell_type": "code",
   "execution_count": 23,
   "metadata": {},
   "outputs": [
    {
     "name": "stdout",
     "output_type": "stream",
     "text": [
      "accuracy score: 0.871\n"
     ]
    }
   ],
   "source": [
    "# Logistic Regression\n",
    "from sklearn.linear_model import LogisticRegression\n",
    "\n",
    "classifier = LogisticRegression(C=1.0, penalty='l2', solver='newton-cg', random_state = 0)\n",
    "classifier.fit(X_train, y_train)\n",
    "\n",
    "# Predicting the Test set results\n",
    "y_pred = classifier.predict(X_test)\n",
    "\n",
    "# Making the Confusion Matrix\n",
    "from sklearn.metrics import confusion_matrix\n",
    "cm_lr = confusion_matrix(y_test, y_pred)\n",
    "\n",
    "print(\"accuracy score: \" + str(classifier.score(X_test, y_test)))"
   ]
  },
  {
   "cell_type": "code",
   "execution_count": 24,
   "metadata": {},
   "outputs": [
    {
     "data": {
      "text/plain": [
       "array([[  8,   0,   2,  10,   1,   0],\n",
       "       [  0, 151,  18,   3,   5,  43],\n",
       "       [  0,  18, 581,   5,   2,  17],\n",
       "       [  5,   0,   9, 296,   1,  17],\n",
       "       [  0,   2,   1,  12,  60,  37],\n",
       "       [  0,  14,   1,  31,   4, 646]], dtype=int64)"
      ]
     },
     "execution_count": 24,
     "metadata": {},
     "output_type": "execute_result"
    }
   ],
   "source": [
    "cm_lr"
   ]
  },
  {
   "cell_type": "code",
   "execution_count": 25,
   "metadata": {},
   "outputs": [
    {
     "name": "stdout",
     "output_type": "stream",
     "text": [
      "accuracy score: 0.85\n"
     ]
    }
   ],
   "source": [
    "# Random Forest\n",
    "from sklearn.ensemble import RandomForestClassifier\n",
    "\n",
    "# classifier = RandomForestClassifier(n_estimators = 100, criterion = 'entropy', random_state = 0)\n",
    "classifier = RandomForestClassifier(max_features='log2', n_estimators=1000, criterion = 'entropy', random_state = 0)\n",
    "\n",
    "classifier.fit(X_train, y_train)\n",
    "\n",
    "# Predicting the Test set results\n",
    "y_pred = classifier.predict(X_test)\n",
    "\n",
    "# Making the Confusion Matrix\n",
    "from sklearn.metrics import confusion_matrix\n",
    "cm_rf = confusion_matrix(y_test, y_pred)\n",
    "\n",
    "print(\"accuracy score: \" + str(classifier.score(X_test, y_test)))"
   ]
  },
  {
   "cell_type": "code",
   "execution_count": 26,
   "metadata": {},
   "outputs": [
    {
     "name": "stdout",
     "output_type": "stream",
     "text": [
      "accuracy score: 0.835\n"
     ]
    }
   ],
   "source": [
    "# Decision Tree\n",
    "# from sklearn.tree import DecisionTreeClassifier\n",
    "\n",
    "classifier = DecisionTreeClassifier(criterion='gini', \n",
    "                                    max_features=None,min_samples_leaf=1, \n",
    "                                    min_samples_split=2, random_state=0)\n",
    "# classifier = DecisionTreeClassifier()\n",
    "\n",
    "classifier.fit(X_train, y_train)\n",
    "\n",
    "# Predicting the Test set results\n",
    "y_pred = classifier.predict(X_test)\n",
    "\n",
    "# Making the Confusion Matrix\n",
    "from sklearn.metrics import confusion_matrix\n",
    "cm_dt = confusion_matrix(y_test, y_pred)\n",
    "\n",
    "print(\"accuracy score: \" + str(classifier.score(X_test, y_test)))"
   ]
  },
  {
   "cell_type": "code",
   "execution_count": 27,
   "metadata": {},
   "outputs": [
    {
     "name": "stdout",
     "output_type": "stream",
     "text": [
      "MLP accuracy score: 0.84\n"
     ]
    }
   ],
   "source": [
    "from sklearn.neural_network import MLPClassifier\n",
    "# MLP Classifier\n",
    "mlp_classifier = MLPClassifier(hidden_layer_sizes=(100,), max_iter=1000, random_state=0)\n",
    "mlp_classifier.fit(X_train, y_train)\n",
    "\n",
    "# Predicting the Test set results\n",
    "y_pred_mlp = mlp_classifier.predict(X_test)\n",
    "\n",
    "# Making the Confusion Matrix\n",
    "from sklearn.metrics import confusion_matrix\n",
    "cm_mlp = confusion_matrix(y_test, y_pred_mlp)\n",
    "\n",
    "print(\"MLP accuracy score:\", mlp_classifier.score(X_test, y_test))\n"
   ]
  },
  {
   "cell_type": "markdown",
   "metadata": {},
   "source": [
    "## Histogram"
   ]
  },
  {
   "cell_type": "code",
   "execution_count": 28,
   "metadata": {},
   "outputs": [],
   "source": [
    "def acc_each_category(cf_matrix):\n",
    "#     total_comments = cf_matrix.sum(axis=1)\n",
    "    correctly_classified = np.diagonal(cf_matrix)\n",
    "    return correctly_classified\n",
    "\n",
    "y = cm_dt.sum(axis=1)"
   ]
  },
  {
   "cell_type": "code",
   "execution_count": 29,
   "metadata": {},
   "outputs": [],
   "source": [
    "z1 = acc_each_category(cm_lsvc)\n",
    "z2 = acc_each_category(cm_lr)\n",
    "z3 = acc_each_category(cm_mnb)\n",
    "z4 = acc_each_category(cm_rf)\n",
    "z5 = acc_each_category(cm_dt)\n",
    "z6 = acc_each_category(cm_mlp)"
   ]
  },
  {
   "cell_type": "code",
   "execution_count": 30,
   "metadata": {},
   "outputs": [
    {
     "data": {
      "image/png": "[encoded data removed]",
      "text/plain": [
       "<Figure size 640x480 with 1 Axes>"
      ]
     },
     "metadata": {},
     "output_type": "display_data"
    }
   ],
   "source": [
    "import matplotlib.pyplot as plt\n",
    "\n",
    "x_tick = np.unique(y_test)\n",
    "w = 0.125\n",
    "x1 = np.array([1,2,3,4,5,6])\n",
    "x2 = x1+w\n",
    "x3 = x2+w\n",
    "x4 = x3+w\n",
    "x5 = x4+w\n",
    "x6 = x5+w\n",
    "x7 = x6+w\n",
    "x8 = x7+w\n",
    "\n",
    "plt.xticks(ticks=x1+0.3, labels=x_tick)\n",
    "plt.bar(x1, y, w, label = \"Total Comments\")\n",
    "plt.bar(x2, z1, w, label = \"Linear SVC\")\n",
    "plt.bar(x3, z2, w, label = \"Logistic Regression\",)\n",
    "plt.bar(x4, z3, w, label = \"Multinomial NB\",)\n",
    "plt.bar(x5, z4, w, label = \"Random Forest Classifier\")\n",
    "plt.bar(x6, z5, w, label = \"Decision Tree\")\n",
    "plt.bar(x7, z6, w, label = \"Multi-Layer Perceptron\")\n",
    "\n",
    "\n",
    "plt.rcParams[\"figure.figsize\"] = (15,5)\n",
    "plt.xlabel(\"Category\")\n",
    "plt.ylabel(\"Number of Comments\")\n",
    "plt.legend()\n",
    "plt.show()"
   ]
  },
  {
   "cell_type": "markdown",
   "metadata": {},
   "source": [
    "## Plotting accuracy vs data size"
   ]
  },
  {
   "cell_type": "code",
   "execution_count": 31,
   "metadata": {},
   "outputs": [
    {
     "data": {
      "image/png": "[encoded data removed]",
      "text/plain": [
       "<Figure size 1200x800 with 1 Axes>"
      ]
     },
     "metadata": {},
     "output_type": "display_data"
    }
   ],
   "source": [
    "def plot_acc_curve(classifier, linestyle, label):    \n",
    "    \n",
    "    num_of_splits = 14\n",
    "    each_split_size = len(X_train)//num_of_splits\n",
    "\n",
    "    each_split = 98\n",
    "    scores = []\n",
    "\n",
    "    for i in range(num_of_splits+1):\n",
    "        split_X_train = X_train[0:each_split]\n",
    "        split_y_train = y_train[0:each_split]\n",
    "\n",
    "        each_split += each_split_size\n",
    "\n",
    "        classifier.fit(split_X_train, split_y_train)\n",
    "        scores.append(classifier.score(X_test, y_test))\n",
    "    \n",
    "    m = 14\n",
    "    n = 98\n",
    "    x_splits = list(range(0, (m+1)*n, n))\n",
    "\n",
    "    plt.xlabel('Data Size')\n",
    "    plt.ylabel('Testing Accuracy')\n",
    "    plt.plot(x_splits, scores, linestyle, label = label)\n",
    "    plt.xticks(x_splits)\n",
    "    plt.legend(loc=\"best\")\n",
    "    \n",
    "    return plt\n",
    "    \n",
    "\n",
    "plt.figure(figsize=(12,8))\n",
    "\n",
    "# Linear SVC\n",
    "classifier = SVC(C=1.0, gamma='scale', kernel='linear', random_state=0)\n",
    "plot_acc_curve(classifier, linestyle = 'o-', label=\"Linear SVC\")\n",
    "\n",
    "# Logistic Regression\n",
    "classifier = LogisticRegression(C=1.0, penalty='l2', solver='newton-cg', random_state = 0)\n",
    "plot_acc_curve(classifier, linestyle = '*-', label=\"Logistic Regression\")\n",
    "\n",
    "# Multinomial NB\n",
    "classifier = MultinomialNB(alpha=1, fit_prior=True)\n",
    "plot_acc_curve(classifier, linestyle = '^-', label=\"Multinomial NB\")\n",
    "\n",
    "# Random Forest Classifier\n",
    "classifier = RandomForestClassifier(max_features='log2', n_estimators=1000, criterion = 'entropy', random_state = 0)\n",
    "plot_acc_curve(classifier, linestyle = 's-', label=\"Random Forest Classifier\")\n",
    "\n",
    "# Decision Tree Classifier\n",
    "classifier = DecisionTreeClassifier(criterion='gini', \n",
    "                                    max_features=None, min_samples_leaf=1, \n",
    "                                    min_samples_split=2, random_state=0)\n",
    "plot_acc_curve(classifier, linestyle = 'x-', label=\"Decision Tree Classifier\")\n",
    "\n",
    "# MLP Classifier\n",
    "mlp_classifier = MLPClassifier(hidden_layer_sizes=(100,), max_iter=1000, random_state=0)\n",
    "plot_acc_curve(mlp_classifier, linestyle = 'd-', label=\"MLP Classifier\")\n",
    "\n",
    "plt.show()"
   ]
  },
  {
   "cell_type": "markdown",
   "metadata": {},
   "source": [
    "### Results :\n",
    "*******************************************************************************************************************************\n",
    "The findings of the cross-validation investigation show that different classification models have varying degrees of accuracy. The accuracy of the Decision Tree Classifier was 80.7%, whereas that of the Linear SVC was somewhat higher at 82.9%. MultinomialNB's accuracy was 79.32%, whereas Logistic Regression's accuracy was 84.04%. The accuracy of the Random Forest Classifier, 83.16%, was promising. These findings highlight how well these models perform when categorizing comments based on sentiment and sentence structure, offering insightful information about how well each model performs while navigating the complexities of categorizing YouTube comments.\n",
    "\n",
    "#### Observations :\n",
    "*******************************************************************************************************************************\n",
    " Several conclusions may be drawn about the effectiveness of the classification models in classifying YouTube comments based on sentiment and sentence type based on the accuracy scores acquired from the trials. The Decision Tree Classifier demonstrated its ability to manage the complexity of comment structures and categorizations by achieving an accuracy of 83.5%. With an accuracy of 86.55%, the Linear SVC did better than the competition, demonstrating how well it can identify complex patterns in comments. With an accuracy of 87.1%, Logistic Regression demonstrated its ability in effectively identifying sentence types and sentiment. With a solid accuracy of 84.85%, the MultinomialNB shown its aptitude for this categorization challenge. The Random Forest Classifier produced an accuracy of 85%, demonstrating its resilience to various comment circumstances.\n",
    "\n",
    " In addition, the study project's use of the MLP algorithm added a fresh perspective to the investigation. The MLP algorithm classified comments with an accuracy of 84%, demonstrating its proficiency. This new update emphasizes how important it is to investigate various algorithms and approaches in order to achieve thorough comment categorization.\n",
    "\n",
    "Overall, the accuracy levels attained by various models—including the recently developed MLP algorithm—display encouraging results in addressing the problem of categorizing YouTube comments, improving our comprehension of viewer attitudes and sentence types within the context of the platform."
   ]
  },
  {
   "cell_type": "markdown",
   "metadata": {},
   "source": [
    "### Conclusion and Future Direction :\n",
    "*******************************************************************************************************************************\n",
    "#### Learnings : \n",
    "This project taught us how to modify a package's source code and reproduce a paper using a github repository. For the code to run smoothly, we cloned the repository and made some changes. Additionally, as a group, we discovered and comprehended how different machine learning techniques may be interpreted for such a use case.\n",
    "\n",
    "* The inclusion of the MLP algorithm was a fascinating development for the project. This new viewpoint widened our investigation and produced an accuracy of 84%, demonstrating the potential of utilizing various methods for improved research.\n",
    "* The process of creating a new GitHub repository to systematically document our journey, share findings, and foster collaboration.\n",
    "* Our experiment highlighted the significance of striking a balance between sophisticated model capabilities and practical considerations. We overcame difficulties caused by lengthy training cycles and hardware constraints by finding a precise balance between complex models and the resources at hand.\n",
    "* This project, which covered cross-validation techniques, hyperparameter tuning, and the incorporation of several algorithms, offered a comprehensive learning experience. These experiences highlighted the nuanced details of study and testing within this specialized setting, as our focus was on classifying YouTube comments.\n",
    "*******************************************************************************************************************************\n",
    "#### Results Discussion :\n",
    "The project's success depends on accurately classifying YouTube comments, allowing content creators to quickly access queries and suggestions for content improvement as well as sentiment-based positive and negative feedback. The method speeds comprehension of viewer engagement by seamlessly merging sentiment analysis and sentence type classification. By using this cutting-edge technology, content creators can more easily understand user attitudes and concerns without having to laboriously sort through voluminous comments manually. After rigorous testing, the Logistic Regression model was shown to be the best in terms of cross-validation and F1 scores, demonstrating its effectiveness in comment categorization. By using a comprehensive strategy, YouTube is able to stimulate more meaningful content development and audience interaction while also improving the engagement of content creators with audience input.\n",
    "*******************************************************************************************************************************\n",
    "#### Limitations :\n",
    "The analysis shown in the figure above, where the miscellaneous group exhibits poor results, makes a drawback of our technique clear. This can be defined to the models disorientation about the wide variety of phrase types included in this category. The models also perform considerably worse in the imperative and negative categories. The difficulties result from the categories' overlapping linguistic properties. For instance, there are complexities in classification since imperative comments sometimes include words that are also interrogative in nature. Similar to interrogative comments, negative remarks may contain both negative and interrogative elements, creating uncertainty. \n",
    "Despite these difficulties, our effective comment categorization provides content creators with considerable advantages by permitting quick access to various categories, assisting sentiment analysis, and promoting effective engagement with audience input. \n",
    "*******************************************************************************************************************************\n",
    "#### Future Extension :\n",
    "An extension of the classes and sub-classes could improve the inclusivity of comment classification for upcoming projects. Similar improvements can be made to the feature selection approach and classification models, especially for comments that show traits from several categories. Additionally, in order to broaden the scope of our study, Explainable Neural Networks (xNNs) for comment classification will be the subject of a comparative analysis."
   ]
  },
  {
   "cell_type": "markdown",
   "metadata": {},
   "source": [
    "# References:\n",
    "\n",
    "[1] Apoorv Agarwal, Boyi Xie, Ilia Vovsha, Owen Rambow, and Rebecca Passonneau.\n",
    "2011. Sentiment Analysis of Twitter Data. In Proceedings of the Workshop on\n",
    "Languages in Social Media (Portland, Oregon) (LSM ’11). Association for Compu\u0002tational Linguistics, USA, 30–38.\n",
    "\n",
    "[2] Rishabh Ahuja, Arun Solanki, and Anand Nayyar. 2019. Movie Recommender\n",
    "System Using K-Means Clustering AND K-Nearest Neighbor. In 2019 9th Inter\u0002national Conference on Cloud Computing, Data Science Engineering (Confluence).\n",
    "263–268. https://doi.org/10.1109/CONFLUENCE.2019.8776969\n",
    "\n",
    "[3] Khin Zezawar Aung and Nyein Nyein Myo. 2017. Sentiment analysis of students’\n",
    "comment using lexicon based approach. In 2017 IEEE/ACIS 16th International\n",
    "Conference on Computer and Information Science (ICIS). 149–154. https://doi.org/10.1109/ICIS.2017.7959985\n",
    "\n",
    "[4] Hanif Bhuiyan, Rajon Bardhan, and Dr. MD Rashedul Islam. 2017. Retrieving\n",
    "YouTube video by sentiment analysis on user comment. 474–478. https://doi.org/10.1109/ICSIPA.2017.8120658\n",
    "\n",
    "[5] Zhalaing Cheung, Khanh Linh Phan, Ashesh Mahidadia, and Achim Hoffmann.\n",
    "2005. Feature Extraction for Learning to Classify Questions. In AI 2004: Advances\n",
    "in Artificial Intelligence, Geoffrey I. Webb and Xinghuo Yu (Eds.). Springer Berlin\n",
    "Heidelberg, Berlin, Heidelberg, 1069–1075.\n",
    "\n",
    "[6] Ronan Collobert, Jason Weston, Léon Bottou, Michael Karlen, Koray Kavukcuoglu,\n",
    "and Pavel Kuksa. 2011. Natural Language Processing (Almost) from Scratch. J.\n",
    "Mach. Learn. Res. 12, null (Nov. 2011), 2493–2537.\n",
    "\n",
    "[7] A. Hassan and A. Mahmood. 2017. Deep learning for sentence classification. In\n",
    "2017 IEEE Long Island Systems, Applications and Technology Conference (LISAT).\n",
    "1–5.\n",
    "\n",
    "[8] Mohit Iyyer, Peter Enns, Jordan Boyd-Graber, and Philip Resnik. 2014. Political\n",
    "Ideology Detection Using Recursive Neural Networks. In Proceedings of the 52nd\n",
    "Annual Meeting of the Association for Computational Linguistics (Volume 1: Long\n",
    "Papers). Association for Computational Linguistics, Baltimore, Maryland, 1113–\n",
    "1122. https://doi.org/10.3115/v1/P14-1105\n",
    "\n",
    "[9] Ammar Ismael Kadhim. 2019. Survey on supervised machine learning techniques\n",
    "for automatic text classification. Artificial Intelligence Review 52, 1 (2019), 273–\n",
    "292.\n",
    "\n",
    "[10] Anthony Khoo, Yuval Marom, and David Albrecht. 2006. Experiments with\n",
    "Sentence Classification. In Proceedings of the Australasian Language Technology\n",
    "Workshop 2006. Sydney, Australia, 18–25. https://www.aclweb.org/anthology/U06-1005\n",
    "\n",
    "[11] Yoon Kim. 2014. Convolutional Neural Networks for Sentence Classification.\n",
    "In Proceedings of the 2014 Conference on Empirical Methods in Natural Language\n",
    "Processing (EMNLP). Association for Computational Linguistics, Doha, Qatar,\n",
    "1746–1751. https://doi.org/10.3115/v1/D14-1181\n",
    "\n",
    "[12] Amar Krishna, Joseph Zambreno, and Sandeep Krishnan. 2013. Polarity Trend\n",
    "Analysis of Public Sentiment on YouTube. In Proceedings of the 19th International\n",
    "Conference on Management of Data (Ahmedabad, India) (COMAD ’13). Computer\n",
    "Society of India, Mumbai, Maharashtra, IND, 125–128.\n",
    "arXiv publication, October 2021, Portland, OR, USA Pokharel and Bhatta\n",
    "Figure 6: Performance of all the models in individual category for document frequency\n",
    "Figure 7: Performance of all the models in individual category for TF-IDF\n",
    "\n",
    "[13] Andrew L. Maas, Raymond E. Daly, Peter T. Pham, Dan Huang, Andrew Y. Ng, and\n",
    "Christopher Potts. 2011. Learning Word Vectors for Sentiment Analysis. In Pro\u0002ceedings of the 49th Annual Meeting of the Association for Computational Linguis\u0002tics: Human Language Technologies. Association for Computational Linguistics,\n",
    "Portland, Oregon, USA, 142–150. https://www.aclweb.org/anthology/P11-1015\n",
    "\n",
    "[14] Amy Madden, Ian Ruthven, and David McMenemy. 2013. A classification scheme\n",
    "for content analyses of YouTube video comments. Journal of Documentation 69,\n",
    "5 (2013), 693–714. https://doi.org/10.1108/JD-06-2012-0078\n",
    "\n",
    "[15] Elizabeth Heidi Poche. 2017. Analyzing User Comments On YouTube Coding\n",
    "Tutorial Videos. Master of Science in Computer Science. Louisiana State University\n",
    "and Agricultural and Mechanical College, Baton Rouge, United States.\n",
    "\n",
    "[16] Stefan Siersdorfer, Sergiu Chelaru, Wolfgang Nejdl, and Jose San Pedro. 2010.\n",
    "How Useful Are Your Comments? Analyzing and Predicting Youtube Comments\n",
    "and Comment Ratings. In Proceedings of the 19th International Conference on\n",
    "World Wide Web (Raleigh, North Carolina, USA) (WWW ’10). Association for\n",
    "Computing Machinery, New York, NY, USA, 891–900. https://doi.org/10.1145/1772690.1772781\n",
    "\n",
    "[17] Richard Socher, Jeffrey Pennington, Eric H. Huang, Andrew Y. Ng, and Christo\u0002pher D. Manning. 2011. Semi-Supervised Recursive Autoencoders for Predicting\n",
    "Sentiment Distributions. In Proceedings of the 2011 Conference on Empirical Meth\u0002ods in Natural Language Processing. Association for Computational Linguistics, Ed\u0002inburgh, Scotland, UK., 151–161. https://www.aclweb.org/anthology/D11-1014\n",
    "\n",
    "[18] Maite Taboada, Julian Brooke, Milan Tofiloski, Kimberly Voll, and Manfred Stede.\n",
    "2011. Lexicon-Based Methods for Sentiment Analysis. Comput. Linguist. 37, 2\n",
    "(June 2011), 267–307. https://doi.org/10.1162/COLI_a_00049\n",
    "\n",
    "[19] Yiming Yang and Jan O. Pedersen. 1997. A Comparative Study on Feature Selection\n",
    "in Text Categorization. In Proceedings of the Fourteenth International Conference on\n",
    "Machine Learning (ICML ’97). Morgan Kaufmann Publishers Inc., San Francisco,\n",
    "CA, USA, 412–420.\n",
    "\n",
    "[20] Douiji Yasmina, Mousannif Hajar, and Al Moatassime Hassan. 2016. Using\n",
    "YouTube Comments for Text-based Emotion Recognition. Procedia Computer\n",
    "Science 83 (2016), 292 – 299. https://doi.org/10.1016/j.procs.2016.04.128 The 7th\n",
    "International Conference on Ambient Systems, Networks and Technologies (ANT\n",
    "2016) / The 6th International Conference on Sustainable Energy Information\n",
    "Technology (SEIT-2016) / Affiliated Workshops.\n",
    "\n",
    "[21] Chunting Zhou, Chonglin Sun, Zhiyuan Liu, and Francis Lau. 2015. A C-LSTM\n",
    "neural network for text classification. arXiv preprint arXiv:1511.08630 (2015)"
   ]
  }
 ],
 "metadata": {
  "kernelspec": {
   "display_name": "Python 3 (ipykernel)",
   "language": "python",
   "name": "python3"
  },
  "language_info": {
   "codemirror_mode": {
    "name": "ipython",
    "version": 3
   },
   "file_extension": ".py",
   "mimetype": "text/x-python",
   "name": "python",
   "nbconvert_exporter": "python",
   "pygments_lexer": "ipython3",
   "version": "3.10.9"
  }
 },
 "nbformat": 4,
 "nbformat_minor": 2
}
